{
 "cells": [
  {
   "cell_type": "code",
   "execution_count": 2,
   "id": "eb00bb85-9bea-4f40-9626-d13a33c888f1",
   "metadata": {},
   "outputs": [
    {
     "name": "stdin",
     "output_type": "stream",
     "text": [
      "Enter the initial state:  C\n",
      "Enter the final state:  G\n"
     ]
    },
    {
     "name": "stdout",
     "output_type": "stream",
     "text": [
      "Path: ['C', 'G']\n",
      "Closed List: ['C', 'F', 'G']\n"
     ]
    }
   ],
   "source": [
    "from collections import deque\n",
    "\n",
    "graph = {\n",
    "    'A': ['B', 'C', 'E'],\n",
    "    'B': ['E', 'D'],\n",
    "    'C': ['F', 'G'],\n",
    "    'E': ['F'],\n",
    "    'D': [],\n",
    "    'F': [],\n",
    "    'G': []\n",
    "}\n",
    "\n",
    "def dfs(graph, start, goal):\n",
    "    \"\"\"Perform DFS to find the path from start to goal.\"\"\"\n",
    "    open_list = [start]\n",
    "    closed_list = []\n",
    "\n",
    "    parent = {start: None}\n",
    "\n",
    "    while open_list:\n",
    "        node = open_list.pop()\n",
    "        closed_list.append(node)\n",
    "        if node == goal:\n",
    "            path = []\n",
    "            while node is not None:\n",
    "                path.append(node)\n",
    "                node = parent[node]\n",
    "            path.reverse()\n",
    "            return path, closed_list\n",
    "\n",
    "        for neighbor in reversed(graph[node]):\n",
    "            if neighbor not in closed_list and neighbor not in open_list:\n",
    "                open_list.append(neighbor)\n",
    "                parent[neighbor] = node\n",
    "\n",
    "    return None, closed_list\n",
    "\n",
    "start_node = input(\"Enter the initial state: \").strip()\n",
    "goal_node = input(\"Enter the final state: \").strip()\n",
    "\n",
    "path, closed_list = dfs(graph, start_node, goal_node)\n",
    "\n",
    "if path:\n",
    "    print(\"Path:\", path)\n",
    "else:\n",
    "    print(\"No path found.\")\n",
    "print(\"Closed List:\", closed_list)\n"
   ]
  },
  {
   "cell_type": "code",
   "execution_count": null,
   "id": "877a6bac-e1b2-4303-b496-e28345ba0c65",
   "metadata": {},
   "outputs": [],
   "source": []
  }
 ],
 "metadata": {
  "kernelspec": {
   "display_name": "Python 3 (ipykernel)",
   "language": "python",
   "name": "python3"
  },
  "language_info": {
   "codemirror_mode": {
    "name": "ipython",
    "version": 3
   },
   "file_extension": ".py",
   "mimetype": "text/x-python",
   "name": "python",
   "nbconvert_exporter": "python",
   "pygments_lexer": "ipython3",
   "version": "3.12.7"
  }
 },
 "nbformat": 4,
 "nbformat_minor": 5
}
