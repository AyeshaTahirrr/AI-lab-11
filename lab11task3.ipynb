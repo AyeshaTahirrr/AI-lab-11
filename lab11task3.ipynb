{
 "cells": [
  {
   "cell_type": "code",
   "execution_count": 1,
   "id": "0d7c724b-071a-4538-b20d-393f0e931338",
   "metadata": {},
   "outputs": [
    {
     "name": "stdout",
     "output_type": "stream",
     "text": [
      "Path: ['A', 'C', 'G']\n",
      "Closed List: ['A', 'B', 'D', 'C', 'F', 'G']\n"
     ]
    }
   ],
   "source": [
    "from collections import deque\n",
    "\n",
    "graph = {\n",
    "    'A': ['B', 'C', 'E'],\n",
    "    'B': ['E', 'D'],\n",
    "    'C': ['F', 'G'],\n",
    "    'E': ['F'],\n",
    "    'D': [],\n",
    "    'F': [],\n",
    "    'G': []\n",
    "}\n",
    "\n",
    "def dfs(graph, start, goal):\n",
    "    \"\"\"Perform DFS to find the path from start to goal.\"\"\"\n",
    "    open_list = [start]\n",
    "    closed_list = []\n",
    "\n",
    "    parent = {start: None}\n",
    "\n",
    "    while open_list:\n",
    "        node = open_list.pop()\n",
    "        closed_list.append(node)\n",
    "\n",
    "        if node == goal:\n",
    "            path = []\n",
    "            while node is not None:\n",
    "                path.append(node)\n",
    "                node = parent[node]\n",
    "            path.reverse()\n",
    "            return path, closed_list\n",
    "\n",
    "        for neighbor in reversed(graph[node]):\n",
    "            if neighbor not in closed_list and neighbor not in open_list:\n",
    "                open_list.append(neighbor)\n",
    "                parent[neighbor] = node\n",
    "\n",
    "    return None, closed_list\n",
    "\n",
    "start_node = 'A'\n",
    "goal_node = 'G'\n",
    "\n",
    "path, closed_list = dfs(graph, start_node, goal_node)\n",
    "\n",
    "if path:\n",
    "    print(\"Path:\", path)\n",
    "else:\n",
    "    print(\"No path found.\")\n",
    "print(\"Closed List:\", closed_list)\n"
   ]
  },
  {
   "cell_type": "code",
   "execution_count": null,
   "id": "823775a5-3ec6-42b1-919c-05ea90b6364c",
   "metadata": {},
   "outputs": [],
   "source": []
  }
 ],
 "metadata": {
  "kernelspec": {
   "display_name": "Python 3 (ipykernel)",
   "language": "python",
   "name": "python3"
  },
  "language_info": {
   "codemirror_mode": {
    "name": "ipython",
    "version": 3
   },
   "file_extension": ".py",
   "mimetype": "text/x-python",
   "name": "python",
   "nbconvert_exporter": "python",
   "pygments_lexer": "ipython3",
   "version": "3.12.7"
  }
 },
 "nbformat": 4,
 "nbformat_minor": 5
}
