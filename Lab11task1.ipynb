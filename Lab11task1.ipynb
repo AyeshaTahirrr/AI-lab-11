{
 "cells": [
  {
   "cell_type": "code",
   "execution_count": 1,
   "id": "c9c7da04-2c9f-47f5-8924-f8cbc2e784b7",
   "metadata": {},
   "outputs": [
    {
     "name": "stdout",
     "output_type": "stream",
     "text": [
      "Path: ['A', 'C', 'G']\n",
      "Closed List: ['A', 'B', 'C', 'E', 'D', 'F', 'G']\n"
     ]
    }
   ],
   "source": [
    "from collections import deque\n",
    "\n",
    "graph = {\n",
    "    'A': ['B', 'C', 'E'],\n",
    "    'B': ['D', 'E'],\n",
    "    'C': ['F', 'G'],\n",
    "    'E': ['F'],\n",
    "    'D': [],\n",
    "    'F': [],\n",
    "    'G': []\n",
    "}\n",
    "\n",
    "def bfs(graph, start, goal):\n",
    "    \"\"\"Perform BFS to find the shortest path from start to goal.\"\"\"\n",
    "    open_list = deque([start])\n",
    "    closed_list = []\n",
    "\n",
    "    parent = {start: None}\n",
    "\n",
    "    while open_list:\n",
    "        node = open_list.popleft()\n",
    "        closed_list.append(node)\n",
    "\n",
    "        if node == goal:\n",
    "            path = []\n",
    "            while node is not None:\n",
    "                path.append(node)\n",
    "                node = parent[node]\n",
    "            path.reverse()\n",
    "            return path, closed_list\n",
    "\n",
    "        # Expand the node\n",
    "        for neighbor in graph[node]:\n",
    "            if neighbor not in closed_list and neighbor not in open_list:\n",
    "                open_list.append(neighbor)\n",
    "                parent[neighbor] = node\n",
    "\n",
    "    return None, closed_list\n",
    "\n",
    "start_node = 'A'\n",
    "goal_node = 'G'\n",
    "\n",
    "path, closed_list = bfs(graph, start_node, goal_node)\n",
    "\n",
    "print(\"Path:\", path)\n",
    "print(\"Closed List:\", closed_list)\n"
   ]
  },
  {
   "cell_type": "code",
   "execution_count": null,
   "id": "8ca1b6ae-599e-4467-a941-a014786e35c1",
   "metadata": {},
   "outputs": [],
   "source": []
  }
 ],
 "metadata": {
  "kernelspec": {
   "display_name": "Python 3 (ipykernel)",
   "language": "python",
   "name": "python3"
  },
  "language_info": {
   "codemirror_mode": {
    "name": "ipython",
    "version": 3
   },
   "file_extension": ".py",
   "mimetype": "text/x-python",
   "name": "python",
   "nbconvert_exporter": "python",
   "pygments_lexer": "ipython3",
   "version": "3.12.7"
  }
 },
 "nbformat": 4,
 "nbformat_minor": 5
}
